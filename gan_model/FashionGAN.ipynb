{
 "cells": [
  {
   "cell_type": "markdown",
   "metadata": {
    "id": "a3rvTw2DLzcc"
   },
   "source": [
    "### **First Step**"
   ]
  },
  {
   "cell_type": "code",
   "execution_count": 1,
   "metadata": {
    "id": "oU1_qsgsLzci"
   },
   "outputs": [],
   "source": [
    "import tensorflow_datasets as tfds\n",
    "import tensorflow as tf\n",
    "import matplotlib.pyplot as plt\n",
    "\n",
    "import os\n",
    "from tensorflow.keras.preprocessing.image import array_to_img\n",
    "from tensorflow.keras.callbacks import Callback\n",
    "\n",
    "import numpy as np\n",
    "\n",
    "from tensorflow.keras.optimizers import Adam\n",
    "from tensorflow.keras.losses import BinaryCrossentropy\n",
    "\n",
    "from tensorflow.keras.models import Model\n",
    "\n",
    "import datetime"
   ]
  },
  {
   "cell_type": "code",
   "execution_count": 2,
   "metadata": {},
   "outputs": [
    {
     "name": "stdout",
     "output_type": "stream",
     "text": [
      "GPU is available\n"
     ]
    }
   ],
   "source": [
    "print(\"GPU is\", \"available\" if tf.config.list_physical_devices('GPU') else \"NOT AVAILABLE\")"
   ]
  },
  {
   "cell_type": "code",
   "execution_count": 3,
   "metadata": {
    "id": "oRnSpV1tLzck"
   },
   "outputs": [
    {
     "data": {
      "text/plain": [
       "dict_keys(['image', 'label'])"
      ]
     },
     "execution_count": 3,
     "metadata": {},
     "output_type": "execute_result"
    }
   ],
   "source": [
    "ds = tfds.load('mnist', split='train')\n",
    "ds.as_numpy_iterator().next().keys()\n",
    "# ds.as_numpy_iterator().next()['image']"
   ]
  },
  {
   "cell_type": "code",
   "execution_count": 4,
   "metadata": {
    "id": "rSXNExofLzco",
    "outputId": "73e78124-4d58-4eee-e48d-a082a32269cc"
   },
   "outputs": [
    {
     "data": {
      "text/plain": [
       "(28, 28, 1)"
      ]
     },
     "execution_count": 4,
     "metadata": {},
     "output_type": "execute_result"
    }
   ],
   "source": [
    "dataiterator = ds.as_numpy_iterator()\n",
    "dataiterator.next()['image'].shape"
   ]
  },
  {
   "cell_type": "code",
   "execution_count": 5,
   "metadata": {
    "id": "hK5tJaZwLzcq",
    "outputId": "1580caaf-21c4-4399-be5b-a121a0d9ebbc"
   },
   "outputs": [
    {
     "data": {
      "image/png": "[encoded data removed]",
      "text/plain": [
       "<Figure size 2000x2000 with 4 Axes>"
      ]
     },
     "metadata": {},
     "output_type": "display_data"
    }
   ],
   "source": [
    "fig, ax = plt.subplots(ncols=4, figsize=(20,20))\n",
    "for idx in range(4):\n",
    "    batch = dataiterator.next()\n",
    "    ax[idx].imshow(np.squeeze(batch['image']))\n",
    "    ax[idx].title.set_text(batch['label'])"
   ]
  },
  {
   "cell_type": "code",
   "execution_count": 6,
   "metadata": {
    "id": "-r-SBgaHLzcr"
   },
   "outputs": [],
   "source": [
    "def scale_images(data):\n",
    "    image = data['image']\n",
    "    return image/255"
   ]
  },
  {
   "cell_type": "code",
   "execution_count": 7,
   "metadata": {
    "id": "i28WYXzQLzcs"
   },
   "outputs": [],
   "source": [
    "ds = tfds.load('mnist', split='train')\n",
    "ds = ds.map(scale_images)\n",
    "ds = ds.cache()\n",
    "ds = ds.shuffle(60000)\n",
    "ds = ds.batch(128)\n",
    "ds = ds.prefetch(64)"
   ]
  },
  {
   "cell_type": "markdown",
   "metadata": {
    "id": "_saRDPI-Lzcs"
   },
   "source": [
    "### **Build Neural Network**"
   ]
  },
  {
   "cell_type": "markdown",
   "metadata": {
    "id": "R3FTnMfrLzct"
   },
   "source": [
    "#### **Build Generator**"
   ]
  },
  {
   "cell_type": "code",
   "execution_count": 8,
   "metadata": {
    "id": "G_DZkEPhLzct"
   },
   "outputs": [
    {
     "name": "stdout",
     "output_type": "stream",
     "text": [
      "Model: \"sequential\"\n",
      "_________________________________________________________________\n",
      " Layer (type)                Output Shape              Param #   \n",
      "=================================================================\n",
      " dense (Dense)               (None, 6272)              809088    \n",
      "                                                                 \n",
      " leaky_re_lu (LeakyReLU)     (None, 6272)              0         \n",
      "                                                                 \n",
      " reshape (Reshape)           (None, 7, 7, 128)         0         \n",
      "                                                                 \n",
      " up_sampling2d (UpSampling2D  (None, 14, 14, 128)      0         \n",
      " )                                                               \n",
      "                                                                 \n",
      " conv2d (Conv2D)             (None, 14, 14, 128)       409728    \n",
      "                                                                 \n",
      " leaky_re_lu_1 (LeakyReLU)   (None, 14, 14, 128)       0         \n",
      "                                                                 \n",
      " up_sampling2d_1 (UpSampling  (None, 28, 28, 128)      0         \n",
      " 2D)                                                             \n",
      "                                                                 \n",
      " conv2d_1 (Conv2D)           (None, 28, 28, 128)       409728    \n",
      "                                                                 \n",
      " leaky_re_lu_2 (LeakyReLU)   (None, 28, 28, 128)       0         \n",
      "                                                                 \n",
      " conv2d_2 (Conv2D)           (None, 28, 28, 128)       262272    \n",
      "                                                                 \n",
      " leaky_re_lu_3 (LeakyReLU)   (None, 28, 28, 128)       0         \n",
      "                                                                 \n",
      " conv2d_3 (Conv2D)           (None, 28, 28, 128)       262272    \n",
      "                                                                 \n",
      " leaky_re_lu_4 (LeakyReLU)   (None, 28, 28, 128)       0         \n",
      "                                                                 \n",
      " conv2d_4 (Conv2D)           (None, 28, 28, 1)         2049      \n",
      "                                                                 \n",
      "=================================================================\n",
      "Total params: 2,155,137\n",
      "Trainable params: 2,155,137\n",
      "Non-trainable params: 0\n",
      "_________________________________________________________________\n"
     ]
    }
   ],
   "source": [
    "def build_generator():\n",
    "    model = tf.keras.models.Sequential()\n",
    "\n",
    "    # model.add(tf.keras.layers.Input(shape=(128,)))\n",
    "    # Takes in random values and reshapes it to 7x7x128\n",
    "    model.add(tf.keras.layers.Dense(7*7*128, input_dim=128))\n",
    "    model.add(tf.keras.layers.LeakyReLU(.2))\n",
    "    model.add(tf.keras.layers.Reshape((7, 7, 128)))\n",
    "\n",
    "    # Upsampling block 1\n",
    "    model.add(tf.keras.layers.UpSampling2D())\n",
    "    model.add(tf.keras.layers.Conv2D(128, 5, padding='same'))\n",
    "    model.add(tf.keras.layers.LeakyReLU(.2))\n",
    "\n",
    "    # Upsampling block 2\n",
    "    model.add(tf.keras.layers.UpSampling2D())\n",
    "    model.add(tf.keras.layers.Conv2D(128, 5, padding='same'))\n",
    "    model.add(tf.keras.layers.LeakyReLU(.2))\n",
    "\n",
    "    #Convolutional block 1\n",
    "    model.add(tf.keras.layers.Conv2D(128, 4, padding='same'))\n",
    "    model.add(tf.keras.layers.LeakyReLU(.2))\n",
    "\n",
    "    #Convolutional block 2\n",
    "    model.add(tf.keras.layers.Conv2D(128, 4, padding='same'))\n",
    "    model.add(tf.keras.layers.LeakyReLU(.2))\n",
    "\n",
    "    #Conv layer to get to one channel\n",
    "    model.add(tf.keras.layers.Conv2D(1, 4, padding='same', activation='sigmoid'))\n",
    "    \n",
    "    return model\n",
    "generator = build_generator()\n",
    "generator.summary()"
   ]
  },
  {
   "cell_type": "code",
   "execution_count": 9,
   "metadata": {
    "id": "hAjeL_bpLzcu",
    "outputId": "a6889ba5-869c-484f-9c11-8b8487881ac1"
   },
   "outputs": [
    {
     "name": "stdout",
     "output_type": "stream",
     "text": [
      "1/1 [==============================] - 5s 5s/step\n"
     ]
    },
    {
     "data": {
      "image/png": "[encoded data removed]",
      "text/plain": [
       "<Figure size 640x480 with 4 Axes>"
      ]
     },
     "metadata": {},
     "output_type": "display_data"
    }
   ],
   "source": [
    "img = generator.predict(np.random.randn(4, 128, 1))\n",
    "\n",
    "fig, ax = plt.subplots(ncols=4)\n",
    "for idx, img in enumerate(img):\n",
    "    ax[idx].imshow(np.squeeze(img))\n",
    "    ax[idx].title.set_text(idx)"
   ]
  },
  {
   "cell_type": "markdown",
   "metadata": {
    "id": "ohI-2GyOLzcv"
   },
   "source": [
    "#### **Build Descriminator**"
   ]
  },
  {
   "cell_type": "code",
   "execution_count": 10,
   "metadata": {
    "id": "8fs7jMsMLzcv"
   },
   "outputs": [
    {
     "name": "stdout",
     "output_type": "stream",
     "text": [
      "Model: \"sequential_1\"\n",
      "_________________________________________________________________\n",
      " Layer (type)                Output Shape              Param #   \n",
      "=================================================================\n",
      " conv2d_5 (Conv2D)           (None, 24, 24, 32)        832       \n",
      "                                                                 \n",
      " leaky_re_lu_5 (LeakyReLU)   (None, 24, 24, 32)        0         \n",
      "                                                                 \n",
      " dropout (Dropout)           (None, 24, 24, 32)        0         \n",
      "                                                                 \n",
      " conv2d_6 (Conv2D)           (None, 20, 20, 64)        51264     \n",
      "                                                                 \n",
      " leaky_re_lu_6 (LeakyReLU)   (None, 20, 20, 64)        0         \n",
      "                                                                 \n",
      " dropout_1 (Dropout)         (None, 20, 20, 64)        0         \n",
      "                                                                 \n",
      " conv2d_7 (Conv2D)           (None, 16, 16, 128)       204928    \n",
      "                                                                 \n",
      " leaky_re_lu_7 (LeakyReLU)   (None, 16, 16, 128)       0         \n",
      "                                                                 \n",
      " dropout_2 (Dropout)         (None, 16, 16, 128)       0         \n",
      "                                                                 \n",
      " conv2d_8 (Conv2D)           (None, 12, 12, 256)       819456    \n",
      "                                                                 \n",
      " leaky_re_lu_8 (LeakyReLU)   (None, 12, 12, 256)       0         \n",
      "                                                                 \n",
      " dropout_3 (Dropout)         (None, 12, 12, 256)       0         \n",
      "                                                                 \n",
      " flatten (Flatten)           (None, 36864)             0         \n",
      "                                                                 \n",
      " dropout_4 (Dropout)         (None, 36864)             0         \n",
      "                                                                 \n",
      " dense_1 (Dense)             (None, 1)                 36865     \n",
      "                                                                 \n",
      "=================================================================\n",
      "Total params: 1,113,345\n",
      "Trainable params: 1,113,345\n",
      "Non-trainable params: 0\n",
      "_________________________________________________________________\n"
     ]
    }
   ],
   "source": [
    "def build_discriminator():\n",
    "    model = tf.keras.models.Sequential()\n",
    "\n",
    "    model.add(tf.keras.layers.Conv2D(32, 5, input_shape=(28, 28, 1)))\n",
    "    model.add(tf.keras.layers.LeakyReLU(.2))\n",
    "    model.add(tf.keras.layers.Dropout(.4))\n",
    "\n",
    "    model.add(tf.keras.layers.Conv2D(64, 5))\n",
    "    model.add(tf.keras.layers.LeakyReLU(.2))\n",
    "    model.add(tf.keras.layers.Dropout(.4))\n",
    "\n",
    "    model.add(tf.keras.layers.Conv2D(128, 5))\n",
    "    model.add(tf.keras.layers.LeakyReLU(.2))\n",
    "    model.add(tf.keras.layers.Dropout(.4))\n",
    "\n",
    "    model.add(tf.keras.layers.Conv2D(256, 5))\n",
    "    model.add(tf.keras.layers.LeakyReLU(.2))\n",
    "    model.add(tf.keras.layers.Dropout(.4))\n",
    "\n",
    "    model.add(tf.keras.layers.Flatten())\n",
    "    model.add(tf.keras.layers.Dropout(.4))\n",
    "    model.add(tf.keras.layers.Dense(1, activation='sigmoid'))\n",
    "\n",
    "    return model\n",
    "\n",
    "discriminator = build_discriminator()\n",
    "discriminator.summary()"
   ]
  },
  {
   "cell_type": "markdown",
   "metadata": {
    "id": "VFbDOhGHLzcw"
   },
   "source": [
    "### **Construct Training Loop**"
   ]
  },
  {
   "cell_type": "markdown",
   "metadata": {
    "id": "HOAhi8UrLzcx"
   },
   "source": [
    "#### **Setup Losses and Optimizers**"
   ]
  },
  {
   "cell_type": "code",
   "execution_count": 11,
   "metadata": {
    "id": "UZAyy9AvLzcx"
   },
   "outputs": [],
   "source": [
    "g_opt = Adam(learning_rate=0.0001)\n",
    "d_opt = Adam(learning_rate=0.00001)"
   ]
  },
  {
   "cell_type": "code",
   "execution_count": 12,
   "metadata": {
    "id": "NRnkLas8Lzcx"
   },
   "outputs": [],
   "source": [
    "g_loss = BinaryCrossentropy()\n",
    "d_loss = BinaryCrossentropy()"
   ]
  },
  {
   "cell_type": "markdown",
   "metadata": {
    "id": "cZL8C3QWLzcy"
   },
   "source": [
    "#### **Build Subclassed Model**"
   ]
  },
  {
   "cell_type": "code",
   "execution_count": 13,
   "metadata": {
    "id": "TITlivHyLzcy"
   },
   "outputs": [],
   "source": [
    "class FashionGAN(Model):\n",
    "    def __init__(self, generator, discriminator, *args, **kwargs):\n",
    "        super().__init__(*args, **kwargs)\n",
    "\n",
    "\n",
    "        self.generator = generator\n",
    "        self.discriminator = discriminator\n",
    "\n",
    "    def compile(self, g_opt, d_opt, g_loss, d_loss, *args, **kwargs):\n",
    "        super().compile(*args, **kwargs)\n",
    "\n",
    "        self.g_opt = g_opt\n",
    "        self.d_opt = d_opt\n",
    "        self.g_loss = g_loss\n",
    "        self.d_loss = d_loss\n",
    "\n",
    "\n",
    "    def train_step(self, batch):\n",
    "        real_images = batch\n",
    "        fake_images = self.generator(tf.random.normal((128, 128, 1)), training=False)\n",
    "\n",
    "\n",
    "\n",
    "        # Training the discriminator\n",
    "        with tf.GradientTape() as d_tape:\n",
    "            # Pass the data of real & fake to the discriminator model\n",
    "            yhat_real = self.discriminator(real_images, training = True)\n",
    "            yhat_fake = self.discriminator(fake_images, training = True)\n",
    "            yhat_realfake = tf.concat([yhat_real, yhat_fake], axis=0)\n",
    "\n",
    "            # Create their labels\n",
    "            y_realfake = tf.concat([tf.zeros_like(yhat_real), tf.ones_like(yhat_fake)], axis=0)\n",
    "\n",
    "            # Add some noise to the TRUE outputs\n",
    "            noise_real = 0.15*tf.random.uniform(tf.shape(yhat_real))\n",
    "            noise_fake = -0.15*tf.random.uniform(tf.shape(yhat_fake))\n",
    "            y_realfake += tf.concat([noise_real, noise_fake], axis=0)\n",
    "\n",
    "            # Calculate loss - BinaryCross\n",
    "            total_d_loss = self.d_loss(y_realfake, yhat_realfake)\n",
    "\n",
    "        # Apply backpropagation - nnLearn\n",
    "        dgrad = d_tape.gradient(total_d_loss, self.discriminator.trainable_variables)\n",
    "        self.d_opt.apply_gradients(zip(dgrad, self.discriminator.trainable_variables))\n",
    "\n",
    "        # Train the generator\n",
    "        with tf.GradientTape() as g_tape:\n",
    "            # Generate some new images\n",
    "            gen_images = self.generator(tf.random.normal((128, 128, 1)), training=True)\n",
    "\n",
    "            # Create the predicted value\n",
    "            predicted_labels = self.discriminator(gen_images, training=False)\n",
    "\n",
    "            #Calculate loss - trick to training to fake out the discriminator\n",
    "            total_g_loss = self.g_loss(tf.zeros_like(predicted_labels), predicted_labels)\n",
    "\n",
    "        #Apply backprop\n",
    "        ggrad = g_tape.gradient(total_g_loss, self.generator.trainable_variables)\n",
    "        self.g_opt.apply_gradients(zip(ggrad, self.generator.trainable_variables))\n",
    "\n",
    "        return {\"dloss\":total_d_loss, \"gloss\":total_g_loss}\n",
    "    \n",
    "fashgan = FashionGAN(generator, discriminator)\n",
    "fashgan.compile(g_opt, d_opt, g_loss, d_loss)"
   ]
  },
  {
   "cell_type": "markdown",
   "metadata": {
    "id": "7nBr2hxNLzcz"
   },
   "source": [
    "#### **Build Callback**"
   ]
  },
  {
   "cell_type": "code",
   "execution_count": 14,
   "metadata": {
    "id": "eogDq2vYLzc0"
   },
   "outputs": [],
   "source": [
    "class ModelMonitor(Callback):\n",
    "    def __init__(self, num_img=3, latent_dim=128):\n",
    "        self.num_img = num_img\n",
    "        self.latent_dim = latent_dim\n",
    "\n",
    "    def on_epoch_end(self, epoch, logs=None):\n",
    "        random_latent_vectors = tf.random.uniform((self.num_img, self.latent_dim, 1))\n",
    "        generated_images = self.model.generator(random_latent_vectors)\n",
    "        generated_images *= 255\n",
    "        generated_images.numpy()\n",
    "        for i in range(self.num_img):\n",
    "            img = array_to_img(generated_images[i])\n",
    "            # img.save(os.path.join('GANimages', f'generated_img_{epoch}_{i}.png'))\n",
    "            img.save(os.path.join('GANimages1', f'generated_img_{epoch}_{i}.png'))"
   ]
  },
  {
   "cell_type": "markdown",
   "metadata": {
    "id": "jl9nYXzsLzc0"
   },
   "source": [
    "#### **Train**"
   ]
  },
  {
   "cell_type": "code",
   "execution_count": 15,
   "metadata": {
    "id": "wYCKaxVVLzc1",
    "outputId": "215af257-cf6f-469e-c065-d8131f162e86"
   },
   "outputs": [],
   "source": [
    "def train_mode(mode, model, epoch, callback=[]):\n",
    "    device = f'/{mode}:0'\n",
    "    with tf.device(device):\n",
    "        hist = model.fit(ds, epochs=epoch, callbacks=callback)\n",
    "    return hist"
   ]
  },
  {
   "cell_type": "code",
   "execution_count": 16,
   "metadata": {
    "id": "VLaksFJNLzc1"
   },
   "outputs": [
    {
     "name": "stdout",
     "output_type": "stream",
     "text": [
      "Epoch 1/2000\n",
      "249/469 [==============>...............] - ETA: 36s - dloss: 0.5095 - gloss: 0.7112\n",
      "You have stopped training the model.\n",
      "WARNING:tensorflow:Compiled the loaded model, but the compiled metrics have yet to be built. `model.compile_metrics` will be empty until you train or evaluate the model.\n"
     ]
    },
    {
     "name": "stderr",
     "output_type": "stream",
     "text": [
      "WARNING:tensorflow:Compiled the loaded model, but the compiled metrics have yet to be built. `model.compile_metrics` will be empty until you train or evaluate the model.\n"
     ]
    },
    {
     "name": "stdout",
     "output_type": "stream",
     "text": [
      "WARNING:tensorflow:Compiled the loaded model, but the compiled metrics have yet to be built. `model.compile_metrics` will be empty until you train or evaluate the model.\n"
     ]
    },
    {
     "name": "stderr",
     "output_type": "stream",
     "text": [
      "WARNING:tensorflow:Compiled the loaded model, but the compiled metrics have yet to be built. `model.compile_metrics` will be empty until you train or evaluate the model.\n"
     ]
    }
   ],
   "source": [
    "CURRENT_TIME = datetime.datetime.now().strftime(\"%d%m%Y_%H%M%S\")\n",
    "\n",
    "try:    \n",
    "    # Create folder\n",
    "    os.makedirs(\"./model_checkpoint\", exist_ok=True)\n",
    "    os.makedirs(\"./GANimages\", exist_ok=True)\n",
    "\n",
    "    # Train model\n",
    "    history = train_mode(mode='GPU', model=fashgan, epoch=2000, callback=[ModelMonitor()])\n",
    "\n",
    "\n",
    "\n",
    "    #Save model\n",
    "    generator.save(f\"./model_checkpoint/generator_{CURRENT_TIME}.h5\")\n",
    "    discriminator.save(f\"./model_checkpoint/discriminator_{CURRENT_TIME}.h5\")\n",
    "\n",
    "except Exception as e:\n",
    "\n",
    "    print(f\"\\nWarning: You have a problem with error {e}\")\n",
    "    \n",
    "    #Save model\n",
    "    generator.save(f\"./model_checkpoint/generator_{CURRENT_TIME}.h5\")\n",
    "    discriminator.save(f\"./model_checkpoint/discriminator_{CURRENT_TIME}.h5\")\n",
    "    \n",
    "except KeyboardInterrupt:\n",
    "\n",
    "    print(f\"\\nYou have stopped training the model.\")\n",
    "\n",
    "    #Save model\n",
    "    generator.save(f\"./model_checkpoint/generator_{CURRENT_TIME}.h5\")\n",
    "    discriminator.save(f\"./model_checkpoint/discriminator_{CURRENT_TIME}.h5\")"
   ]
  },
  {
   "cell_type": "markdown",
   "metadata": {},
   "source": [
    "### **Load Model**"
   ]
  },
  {
   "cell_type": "code",
   "execution_count": 9,
   "metadata": {},
   "outputs": [],
   "source": [
    "generator_dir_model = \"generator_20112024_224006.h5\"\n",
    "# discriminator_dir_model = \"discriminator_20112024_224006.h5\"\n",
    "\n",
    "generator.load_weights(os.path.join('model_checkpoint', generator_dir_model))\n",
    "# discriminator.load_weights(os.path.join('model_checkpoint', discriminator_dir_model))"
   ]
  }
 ],
 "metadata": {
  "colab": {
   "provenance": []
  },
  "kernelspec": {
   "display_name": "venv_gpu",
   "language": "python",
   "name": "python3"
  },
  "language_info": {
   "codemirror_mode": {
    "name": "ipython",
    "version": 3
   },
   "file_extension": ".py",
   "mimetype": "text/x-python",
   "name": "python",
   "nbconvert_exporter": "python",
   "pygments_lexer": "ipython3",
   "version": "3.10.15"
  }
 },
 "nbformat": 4,
 "nbformat_minor": 0
}
