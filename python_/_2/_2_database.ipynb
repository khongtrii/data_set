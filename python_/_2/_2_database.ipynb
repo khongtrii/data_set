{
 "cells": [
  {
   "cell_type": "markdown",
   "metadata": {},
   "source": [
    "**import lib**"
   ]
  },
  {
   "cell_type": "code",
   "execution_count": 1,
   "metadata": {},
   "outputs": [],
   "source": [
    "import numpy as np\n",
    "import pyodbc\n",
    "import pandas as pd"
   ]
  },
  {
   "cell_type": "markdown",
   "metadata": {},
   "source": [
    "**SQL Table**"
   ]
  },
  {
   "cell_type": "code",
   "execution_count": 2,
   "metadata": {},
   "outputs": [],
   "source": [
    "# CREATE TABLE customer (\n",
    "#     cus_id INT PRIMARY KEY,\n",
    "#     cus_name NVARCHAR(100),\n",
    "#     cus_phone NVARCHAR(20),\n",
    "#     cus_email NVARCHAR(100)\n",
    "# );\n",
    "\n",
    "# CREATE TABLE staff (\n",
    "#     staff_id INT PRIMARY KEY,\n",
    "#     staff_name NVARCHAR(100),\n",
    "#     staff_phone NVARCHAR(20),\n",
    "#     staff_email NVARCHAR(100)\n",
    "# );"
   ]
  },
  {
   "cell_type": "markdown",
   "metadata": {},
   "source": [
    "**Define Function**"
   ]
  },
  {
   "cell_type": "code",
   "execution_count": 3,
   "metadata": {},
   "outputs": [],
   "source": [
    "def _connect(mode=True):\n",
    "    try: \n",
    "        conn = pyodbc.connect('DRIVER={ODBC Driver 17 for SQL Server};'\n",
    "                    'SERVER=DESKTOP-RE9128J\\\\SQLEXPRESS;'\n",
    "                    'DATABASE=testpy;'\n",
    "                    'UID=sa;'\n",
    "                    'PWD=123')\n",
    "    except Exception as e:\n",
    "        print(\"We have an error __ {}\".format(e))\n",
    "    if mode:\n",
    "        return conn\n",
    "    else:\n",
    "        conn.close()"
   ]
  },
  {
   "cell_type": "code",
   "execution_count": 4,
   "metadata": {},
   "outputs": [],
   "source": [
    "def _checkdb(str_query):\n",
    "    conn = _connect(mode=True)\n",
    "\n",
    "    cursor = conn.cursor()\n",
    "\n",
    "    cursor.execute(str_query)\n",
    "\n",
    "    columns = [column[0] for column in cursor.description]\n",
    "    data = np.array(cursor.fetchall())\n",
    "    if data.size>0:\n",
    "        try:\n",
    "            r, c = data.shape\n",
    "            if r==1:\n",
    "                df = pd.DataFrame(data.reshape(1, -1), columns=columns).set_index(columns[0])\n",
    "                print(df)\n",
    "            else:\n",
    "                df = pd.DataFrame(data, columns=columns).set_index(columns[0])\n",
    "                print(df)\n",
    "        except Exception as e:\n",
    "            print(f\"Please check the table -- {e}\")\n",
    "    else:\n",
    "        print(\"Không có dữ liệu trả về\")\n",
    "\n",
    "    _connect(mode=False)"
   ]
  },
  {
   "cell_type": "code",
   "execution_count": 5,
   "metadata": {},
   "outputs": [],
   "source": [
    "def _addvar(str_query):\n",
    "    try:\n",
    "        conn = _connect(mode=True)\n",
    "\n",
    "        cursor = conn.cursor()\n",
    "\n",
    "        cursor.execute(str_query)\n",
    "\n",
    "        check = input(\"Did you want to commit to this transaction? [y]/[n] _ \")\n",
    "        while check != 'y' and check != 'n':\n",
    "            check = input(\"Please choose yes or no for this question! [y]/[n] _ \")\n",
    "        if check == 'y':\n",
    "            conn.commit()\n",
    "            print(\"Added\")\n",
    "        elif check == 'n':\n",
    "            conn.rollback()\n",
    "            print(\"Never been added\")\n",
    "        \n",
    "        _connect(mode=False)\n",
    "    except Exception as e:\n",
    "        print(f\"{e}\\n\")\n",
    "        print(\"Check the contraint\")\n",
    "        print(\"Never been added\")\n",
    "        _connect(mode=False)"
   ]
  },
  {
   "cell_type": "code",
   "execution_count": 6,
   "metadata": {},
   "outputs": [],
   "source": [
    "def _removevar(str_query):\n",
    "    try:\n",
    "        conn = _connect(mode=True)\n",
    "\n",
    "        cursor = conn.cursor()\n",
    "\n",
    "        cursor.execute(str_query)\n",
    "\n",
    "        check = input(\"Did you want to commit to this transaction? [y]/[n] _ \")\n",
    "        while check != 'y' and check != 'n':\n",
    "            check = input(\"Please choose yes or no for this question! [y]/[n] _ \")\n",
    "        if check == 'y':\n",
    "            conn.commit()\n",
    "            print(\"Removed\")\n",
    "        elif check == 'n':\n",
    "            conn.rollback()\n",
    "            print(\"Never been removed\")\n",
    "        _connect(mode=False)\n",
    "    except Exception as e:\n",
    "        print(f\"{e}\\n\")\n",
    "        print(\"Check the contraint\")\n",
    "        _connect(mode=False)"
   ]
  },
  {
   "cell_type": "code",
   "execution_count": null,
   "metadata": {},
   "outputs": [],
   "source": [
    "def _updatevar(str_query):\n",
    "    try:\n",
    "        conn = _connect(mode=True)\n",
    "\n",
    "        cursor = conn.cursor()\n",
    "\n",
    "        cursor.execute(str_query)\n",
    "\n",
    "        check = input(\"Did you want to commit to this transaction? [y]/[n] _ \")\n",
    "        while check != 'y' and check != 'n':\n",
    "            check = input(\"Please choose yes or no for this question! [y]/[n] _ \")\n",
    "        if check == 'y':\n",
    "            conn.commit()\n",
    "            print(\"Updated\")\n",
    "        elif check == 'n':\n",
    "            conn.rollback()\n",
    "            print(\"Never been updated\")\n",
    "        _connect(mode=False)\n",
    "    except Exception as e:\n",
    "        print(f\"{e}\\n\")\n",
    "        print(\"Check the contraint\")\n",
    "        _connect(mode=False)"
   ]
  },
  {
   "cell_type": "markdown",
   "metadata": {},
   "source": [
    "**CODE**"
   ]
  },
  {
   "cell_type": "code",
   "execution_count": 8,
   "metadata": {},
   "outputs": [
    {
     "name": "stdout",
     "output_type": "stream",
     "text": [
      "                     cus_name   cus_phone                         cus_email\n",
      "cus_id                                                                     \n",
      "1              Khổng Minh Trí  0767273566            trikhong2004@gmail.com\n",
      "2       Lưu Nguyễn Thanh Thảo  0902827279  luunguyenthanhthao2016@gmail.com\n"
     ]
    }
   ],
   "source": [
    "query = \"SELECT * FROM customer\"\n",
    "_checkdb(query)"
   ]
  },
  {
   "cell_type": "code",
   "execution_count": 9,
   "metadata": {},
   "outputs": [
    {
     "name": "stdout",
     "output_type": "stream",
     "text": [
      "('23000', \"[23000] [Microsoft][ODBC Driver 17 for SQL Server][SQL Server]Violation of PRIMARY KEY constraint 'PK__customer__E84D41E80850BFCF'. Cannot insert duplicate key in object 'dbo.customer'. The duplicate key value is (2). (2627) (SQLExecDirectW); [23000] [Microsoft][ODBC Driver 17 for SQL Server][SQL Server]The statement has been terminated. (3621)\")\n",
      "\n",
      "Check the contraint\n",
      "Never been added\n"
     ]
    }
   ],
   "source": [
    "query = \"INSERT INTO customer VALUES (2, N'Lưu Nguyễn Thanh Thảo', '0902827279', 'luunguyenthanhthao2016@gmail.com')\"\n",
    "_addvar(query)"
   ]
  },
  {
   "cell_type": "code",
   "execution_count": 10,
   "metadata": {},
   "outputs": [
    {
     "name": "stdout",
     "output_type": "stream",
     "text": [
      "Never been removed\n"
     ]
    }
   ],
   "source": [
    "query = \"DELETE FROM customer WHERE cus_id=10\"\n",
    "_removevar(query)"
   ]
  },
  {
   "cell_type": "code",
   "execution_count": 11,
   "metadata": {},
   "outputs": [
    {
     "name": "stdout",
     "output_type": "stream",
     "text": [
      "Never been updated\n"
     ]
    }
   ],
   "source": [
    "query = \"UPDATE customer SET cus_name=N'Phạm Duy Khang' WHERE cus_id=1\"\n",
    "_updatevar(query)"
   ]
  }
 ],
 "metadata": {
  "kernelspec": {
   "display_name": "base",
   "language": "python",
   "name": "python3"
  },
  "language_info": {
   "codemirror_mode": {
    "name": "ipython",
    "version": 3
   },
   "file_extension": ".py",
   "mimetype": "text/x-python",
   "name": "python",
   "nbconvert_exporter": "python",
   "pygments_lexer": "ipython3",
   "version": "3.12.7"
  }
 },
 "nbformat": 4,
 "nbformat_minor": 2
}
