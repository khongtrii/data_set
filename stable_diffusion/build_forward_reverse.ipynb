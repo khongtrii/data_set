{
 "cells": [
  {
   "cell_type": "code",
   "execution_count": 1,
   "metadata": {},
   "outputs": [],
   "source": [
    "import torch\n",
    "import matplotlib.pyplot as plt\n",
    "import cv2\n",
    "import numpy as np\n",
    "from torchvision import datasets, transforms"
   ]
  },
  {
   "cell_type": "code",
   "execution_count": 2,
   "metadata": {},
   "outputs": [],
   "source": [
    "image_ori = cv2.imread('data/00007.jpg')\n",
    "image_ori = cv2.cvtColor(image_ori, cv2.COLOR_RGB2GRAY)\n",
    "image_ori = torch.tensor(image_ori/255., dtype=torch.float64)\n",
    "image = image_ori.clone()"
   ]
  },
  {
   "cell_type": "code",
   "execution_count": null,
   "metadata": {},
   "outputs": [],
   "source": [
    "def cosine_scheduler(n_max, n_min, t, T):\n",
    "    cos_value = (t / T) * np.pi\n",
    "    cos = np.cos(cos_value)\n",
    "    n_t = n_max + 0.5 * (n_min - n_max) * (1 + cos)\n",
    "    return n_t"
   ]
  }
 ],
 "metadata": {
  "kernelspec": {
   "display_name": "PyTorch_GPUs",
   "language": "python",
   "name": "python3"
  },
  "language_info": {
   "codemirror_mode": {
    "name": "ipython",
    "version": 3
   },
   "file_extension": ".py",
   "mimetype": "text/x-python",
   "name": "python",
   "nbconvert_exporter": "python",
   "pygments_lexer": "ipython3",
   "version": "3.12.8"
  }
 },
 "nbformat": 4,
 "nbformat_minor": 2
}
